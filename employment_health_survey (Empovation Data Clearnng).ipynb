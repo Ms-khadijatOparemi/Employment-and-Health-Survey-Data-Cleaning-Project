{
 "cells": [
  {
   "cell_type": "markdown",
   "id": "2dbc34b7",
   "metadata": {},
   "source": [
    "## Introduction\n",
    "\n",
    "Messy Data Cleaning Challenge: Employment and Health \n",
    "Survey\n",
    "Data Description:\n",
    "\n",
    "##Data \n",
    "The dataset contains 1656 rows of data with ten columns:\n",
    "• Name: Identity of person\n",
    "\n",
    "• Age: The current age of the individual\n",
    "\n",
    "• Gender: The preferred gender of the individual\n",
    "\n",
    "• City: The city in which the persona lives in\n",
    "• Education: Highest level of education attained (Missing, High School, Associate, \n",
    "Bachelor's, Master's, PhD)\n",
    "\n",
    "• Employment Status: Current employment status (Unemployed, Employed, \n",
    "Student, Self-employed, Retired, Gig Worker, Employed (Part-time), Employed \n",
    "(Contract))\n",
    "\n",
    "• Salary: Annual or hourly income (may include inconsistencies in formatting and \n",
    "units)\n",
    "\n",
    "• Health Condition: Self-reported health status (Excellent, Good, Average, Poor, \n",
    "Missing)\n",
    "\n",
    "• Credit Score: Numerical credit score (may include \"N/A\" for missing values)\n",
    "\n",
    "\n"
   ]
  },
  {
   "cell_type": "markdown",
   "id": "06e2ab23",
   "metadata": {},
   "source": [
    "#Instruction:#\n",
    " 1. Import the Data: You can use any spreadsheet software (Excel, Google Sheets) \n",
    "or data analysis tools (Python, R) to import the data.\n",
    "\n",
    "2. Identify Missing Values: Look for empty cells in each column and identify the \n",
    "number of missing entries.\n",
    "\n",
    "3. Analyze Formatting: Check for inconsistencies in formatting, particularly in the \n",
    "Salary column (e.g., presence of currency symbols, decimal places, hourly vs. \n",
    "annual income indicators).\n",
    "\n",
    "4. Address Outliers: Look for extreme values in the Salary and Credit Score \n",
    "columns that might not be representative of the data.\n",
    "\n",
    "5. Clean Employment Status: Review entries in the Employment Status column \n",
    "for potential typos or ambiguities (e.g., \"Self-employed (Business Closed)\").\n",
    "\n",
    "6. Validate Health Conditions: Ensure entries in the Health Condition column are \n",
    "consistent and represent valid options.\n",
    "\n",
    "7. Handle Credit Scores: Decide how to handle missing credit scores (\"N/A\") and \n",
    "consider potential inconsistencies (e.g., high credit score for a high school \n",
    "graduate).\n",
    "\n",
    "8. Document Your Changes: Keep track of the cleaning steps you take, the logic \n",
    "behind your decisions, and any assumptions made.\n",
    "\n"
   ]
  },
  {
   "cell_type": "markdown",
   "id": "f3d91c8f",
   "metadata": {},
   "source": [
    "#Cleaning Strategies:#\n",
    "• Use filters or conditional formatting to identify missing values and \n",
    "inconsistencies.\n",
    "\n",
    "• Standardize formatting for entries in the Salary column (e.g., convert all values to \n",
    "a single unit like yearly income).\n",
    "\n",
    "• Decide on a strategy for handling outliers: remove them, investigate them further, \n",
    "or cap them at a specific value.\n",
    "\n",
    "• Consider creating new categories within the Employment Status column to better \n",
    "represent specific situations (e.g., \"Business Closed\" for self-employed).\n",
    "\n",
    "• Verify options within the Health Condition column and remove or categorize any \n",
    "invalid entries.\n",
    "\n",
    "• Decide whether to impute missing credit scores or leave them as \"N/A\" based on \n",
    "your analysis.\n",
    "\n",
    "#Deliverables:#\n",
    "• Provide a cleaned version of the data with addressed missing values, consistent \n",
    "formatting, and corrected inconsistencies.\n",
    "\n",
    "• Document your cleaning process, including the cleaning steps taken, the \n",
    "decisions made, and any limitations of the cleaned data."
   ]
  },
  {
   "cell_type": "markdown",
   "id": "91eeb487",
   "metadata": {},
   "source": [
    "#### load Libraries"
   ]
  },
  {
   "cell_type": "code",
   "execution_count": 1,
   "id": "5e0c5d2e",
   "metadata": {},
   "outputs": [],
   "source": [
    "#Import libraries\n",
    "\n",
    "import pandas as pd \n",
    "import numpy as np\n",
    "import matplotlib.pyplot as plt\n",
    "import seaborn as sns"
   ]
  },
  {
   "cell_type": "markdown",
   "id": "e1da985e",
   "metadata": {},
   "source": [
    "#### Read  the File"
   ]
  },
  {
   "cell_type": "code",
   "execution_count": 2,
   "id": "c763b8f2",
   "metadata": {},
   "outputs": [],
   "source": [
    "employment_health= pd.read_csv(r'C:\\Users\\USER\\Desktop\\EMPOVATION\\DATA CLEANING VIRTUAL INTERNSHIP\\Employment Survey Data.csv')"
   ]
  },
  {
   "cell_type": "code",
   "execution_count": 3,
   "id": "b696143e",
   "metadata": {},
   "outputs": [
    {
     "data": {
      "text/html": [
       "<div>\n",
       "<style scoped>\n",
       "    .dataframe tbody tr th:only-of-type {\n",
       "        vertical-align: middle;\n",
       "    }\n",
       "\n",
       "    .dataframe tbody tr th {\n",
       "        vertical-align: top;\n",
       "    }\n",
       "\n",
       "    .dataframe thead th {\n",
       "        text-align: right;\n",
       "    }\n",
       "</style>\n",
       "<table border=\"1\" class=\"dataframe\">\n",
       "  <thead>\n",
       "    <tr style=\"text-align: right;\">\n",
       "      <th></th>\n",
       "      <th>ID</th>\n",
       "      <th>Name</th>\n",
       "      <th>Age</th>\n",
       "      <th>Gender</th>\n",
       "      <th>City</th>\n",
       "      <th>Education</th>\n",
       "      <th>Employment Status</th>\n",
       "      <th>Salary</th>\n",
       "      <th>Health Condition</th>\n",
       "      <th>Credit Score</th>\n",
       "    </tr>\n",
       "  </thead>\n",
       "  <tbody>\n",
       "    <tr>\n",
       "      <th>0</th>\n",
       "      <td>1</td>\n",
       "      <td>GARCIA JUAN</td>\n",
       "      <td>78</td>\n",
       "      <td>M</td>\n",
       "      <td>Albuquerque</td>\n",
       "      <td>Bachelor</td>\n",
       "      <td>Employed</td>\n",
       "      <td>$80,000</td>\n",
       "      <td>Good</td>\n",
       "      <td>720</td>\n",
       "    </tr>\n",
       "    <tr>\n",
       "      <th>1</th>\n",
       "      <td>2</td>\n",
       "      <td>MONTOYA CAMERON</td>\n",
       "      <td>17</td>\n",
       "      <td>F</td>\n",
       "      <td>Albuque</td>\n",
       "      <td>Associate</td>\n",
       "      <td>Unemployed</td>\n",
       "      <td>$0</td>\n",
       "      <td>Excellent</td>\n",
       "      <td>NaN</td>\n",
       "    </tr>\n",
       "    <tr>\n",
       "      <th>2</th>\n",
       "      <td>3</td>\n",
       "      <td>SATTERFIELD VIVIANA</td>\n",
       "      <td>15</td>\n",
       "      <td>M</td>\n",
       "      <td>Albuque</td>\n",
       "      <td>PhD</td>\n",
       "      <td>Self-employed</td>\n",
       "      <td>$120,000</td>\n",
       "      <td>Poor</td>\n",
       "      <td>550</td>\n",
       "    </tr>\n",
       "  </tbody>\n",
       "</table>\n",
       "</div>"
      ],
      "text/plain": [
       "   ID                 Name Age Gender         City  Education  \\\n",
       "0   1          GARCIA JUAN  78      M  Albuquerque   Bachelor   \n",
       "1   2      MONTOYA CAMERON  17      F      Albuque  Associate   \n",
       "2   3  SATTERFIELD VIVIANA  15      M      Albuque        PhD   \n",
       "\n",
       "  Employment Status     Salary Health Condition Credit Score  \n",
       "0          Employed   $80,000              Good          720  \n",
       "1        Unemployed        $0         Excellent          NaN  \n",
       "2     Self-employed  $120,000              Poor          550  "
      ]
     },
     "execution_count": 3,
     "metadata": {},
     "output_type": "execute_result"
    }
   ],
   "source": [
    "employment_health.head(3)"
   ]
  },
  {
   "cell_type": "code",
   "execution_count": 4,
   "id": "998fb833",
   "metadata": {},
   "outputs": [
    {
     "data": {
      "text/html": [
       "<div>\n",
       "<style scoped>\n",
       "    .dataframe tbody tr th:only-of-type {\n",
       "        vertical-align: middle;\n",
       "    }\n",
       "\n",
       "    .dataframe tbody tr th {\n",
       "        vertical-align: top;\n",
       "    }\n",
       "\n",
       "    .dataframe thead th {\n",
       "        text-align: right;\n",
       "    }\n",
       "</style>\n",
       "<table border=\"1\" class=\"dataframe\">\n",
       "  <thead>\n",
       "    <tr style=\"text-align: right;\">\n",
       "      <th></th>\n",
       "      <th>ID</th>\n",
       "      <th>Name</th>\n",
       "      <th>Age</th>\n",
       "      <th>Gender</th>\n",
       "      <th>City</th>\n",
       "      <th>Education</th>\n",
       "      <th>Employment Status</th>\n",
       "      <th>Salary</th>\n",
       "      <th>Health Condition</th>\n",
       "      <th>Credit Score</th>\n",
       "    </tr>\n",
       "  </thead>\n",
       "  <tbody>\n",
       "    <tr>\n",
       "      <th>1651</th>\n",
       "      <td>1652</td>\n",
       "      <td>CHEW MURRIEL</td>\n",
       "      <td>20</td>\n",
       "      <td>NaN</td>\n",
       "      <td>Baltimore</td>\n",
       "      <td>High School</td>\n",
       "      <td>Employed</td>\n",
       "      <td>$60,000</td>\n",
       "      <td>Excellent</td>\n",
       "      <td>810</td>\n",
       "    </tr>\n",
       "    <tr>\n",
       "      <th>1652</th>\n",
       "      <td>1653</td>\n",
       "      <td>DAVIS HENRY</td>\n",
       "      <td>48</td>\n",
       "      <td>NaN</td>\n",
       "      <td>Baltimore</td>\n",
       "      <td>Bachelor's</td>\n",
       "      <td>Student (Full-time)</td>\n",
       "      <td>$0</td>\n",
       "      <td>Good</td>\n",
       "      <td>NaN</td>\n",
       "    </tr>\n",
       "    <tr>\n",
       "      <th>1653</th>\n",
       "      <td>1654</td>\n",
       "      <td>JONES ERIC OBYRON</td>\n",
       "      <td>23</td>\n",
       "      <td>NaN</td>\n",
       "      <td>Baltimore</td>\n",
       "      <td>NaN</td>\n",
       "      <td>Self-employed</td>\n",
       "      <td>$120,000 (Seasonal)</td>\n",
       "      <td>Average</td>\n",
       "      <td>660</td>\n",
       "    </tr>\n",
       "    <tr>\n",
       "      <th>1654</th>\n",
       "      <td>1655</td>\n",
       "      <td>PRESSLEY JULIUS</td>\n",
       "      <td>23</td>\n",
       "      <td>NaN</td>\n",
       "      <td>Baltimore</td>\n",
       "      <td>Associate</td>\n",
       "      <td>Unemployed</td>\n",
       "      <td>$0</td>\n",
       "      <td>Poor</td>\n",
       "      <td>NaN</td>\n",
       "    </tr>\n",
       "    <tr>\n",
       "      <th>1655</th>\n",
       "      <td>1656</td>\n",
       "      <td>BAYLOR EDWARD TYREE</td>\n",
       "      <td>32</td>\n",
       "      <td>NaN</td>\n",
       "      <td>Baltimore</td>\n",
       "      <td>PhD</td>\n",
       "      <td>Employed</td>\n",
       "      <td>$130,000 (Commission)</td>\n",
       "      <td>Good</td>\n",
       "      <td>740</td>\n",
       "    </tr>\n",
       "  </tbody>\n",
       "</table>\n",
       "</div>"
      ],
      "text/plain": [
       "        ID                 Name Age Gender       City    Education  \\\n",
       "1651  1652         CHEW MURRIEL  20    NaN  Baltimore  High School   \n",
       "1652  1653          DAVIS HENRY  48    NaN  Baltimore   Bachelor's   \n",
       "1653  1654    JONES ERIC OBYRON  23    NaN  Baltimore          NaN   \n",
       "1654  1655      PRESSLEY JULIUS  23    NaN  Baltimore    Associate   \n",
       "1655  1656  BAYLOR EDWARD TYREE  32    NaN  Baltimore          PhD   \n",
       "\n",
       "        Employment Status                 Salary Health Condition Credit Score  \n",
       "1651             Employed               $60,000         Excellent          810  \n",
       "1652  Student (Full-time)                    $0              Good          NaN  \n",
       "1653        Self-employed    $120,000 (Seasonal)          Average          660  \n",
       "1654           Unemployed                    $0              Poor          NaN  \n",
       "1655             Employed  $130,000 (Commission)             Good          740  "
      ]
     },
     "execution_count": 4,
     "metadata": {},
     "output_type": "execute_result"
    }
   ],
   "source": [
    "employment_health.tail()"
   ]
  },
  {
   "cell_type": "markdown",
   "id": "d46490e7",
   "metadata": {},
   "source": [
    "#### Understand the Data"
   ]
  },
  {
   "cell_type": "code",
   "execution_count": 5,
   "id": "b89b9529",
   "metadata": {},
   "outputs": [
    {
     "data": {
      "text/plain": [
       "(1656, 10)"
      ]
     },
     "execution_count": 5,
     "metadata": {},
     "output_type": "execute_result"
    }
   ],
   "source": [
    "#Understand the shape of the dataset\n",
    "\n",
    "employment_health.shape  "
   ]
  },
  {
   "cell_type": "code",
   "execution_count": 6,
   "id": "7ebd4490",
   "metadata": {},
   "outputs": [
    {
     "name": "stdout",
     "output_type": "stream",
     "text": [
      "<class 'pandas.core.frame.DataFrame'>\n",
      "RangeIndex: 1656 entries, 0 to 1655\n",
      "Data columns (total 10 columns):\n",
      " #   Column             Non-Null Count  Dtype \n",
      "---  ------             --------------  ----- \n",
      " 0   ID                 1656 non-null   int64 \n",
      " 1   Name               1656 non-null   object\n",
      " 2   Age                1656 non-null   object\n",
      " 3   Gender             30 non-null     object\n",
      " 4   City               1656 non-null   object\n",
      " 5   Education          1440 non-null   object\n",
      " 6   Employment Status  1656 non-null   object\n",
      " 7   Salary             1656 non-null   object\n",
      " 8   Health Condition   1611 non-null   object\n",
      " 9   Credit Score       1152 non-null   object\n",
      "dtypes: int64(1), object(9)\n",
      "memory usage: 129.5+ KB\n"
     ]
    }
   ],
   "source": [
    "employment_health.info()"
   ]
  },
  {
   "cell_type": "markdown",
   "id": "9b804051",
   "metadata": {},
   "source": [
    "Based on the infomation 'id' and 'gender' columns are irrelevant and should be dropped.  Also 'age','salary' and 'credit_score' data format are not in the right way. They will be converted to 'int64'."
   ]
  },
  {
   "cell_type": "code",
   "execution_count": 7,
   "id": "0e837809",
   "metadata": {},
   "outputs": [],
   "source": [
    "employment_health.drop(columns=['ID','Gender'],inplace =True)"
   ]
  },
  {
   "cell_type": "code",
   "execution_count": 8,
   "id": "d348e8f7",
   "metadata": {},
   "outputs": [
    {
     "data": {
      "text/plain": [
       "Index(['name', 'age', 'city', 'education', 'employment_status', 'salary',\n",
       "       'health_condition', 'credit_score'],\n",
       "      dtype='object')"
      ]
     },
     "execution_count": 8,
     "metadata": {},
     "output_type": "execute_result"
    }
   ],
   "source": [
    "# Change the column names in standardize form.\n",
    "#Remove space,make it lower,replace space with undercore(_) \n",
    "employment_health.columns = employment_health.columns.str.strip().str.lower().str.replace(' ', '_')\n",
    "employment_health.columns"
   ]
  },
  {
   "cell_type": "code",
   "execution_count": 9,
   "id": "2d4a6c6a",
   "metadata": {},
   "outputs": [],
   "source": [
    "# Convert data types\n",
    "\n",
    "#convert 'age' column to numeric\n",
    "employment_health['age'] = pd.to_numeric(employment_health['age'], errors='coerce').astype('Int64')\n",
    "\n",
    "# Remove non-numeric characters from salary and convert to numeric\n",
    "employment_health['salary'] = employment_health['salary'].replace('[\\$,]', '', regex=True).str.extract('(\\d+\\.?\\d*)')[0].astype('Int64')\n",
    "\n",
    "# Convert \"credit_score\" column to numeric\n",
    "employment_health['credit_score'] = pd.to_numeric(employment_health['credit_score'], errors='coerce').astype('Int64')\n"
   ]
  },
  {
   "cell_type": "code",
   "execution_count": 10,
   "id": "c51de2f2",
   "metadata": {},
   "outputs": [
    {
     "name": "stdout",
     "output_type": "stream",
     "text": [
      "<class 'pandas.core.frame.DataFrame'>\n",
      "RangeIndex: 1656 entries, 0 to 1655\n",
      "Data columns (total 8 columns):\n",
      " #   Column             Non-Null Count  Dtype \n",
      "---  ------             --------------  ----- \n",
      " 0   name               1656 non-null   object\n",
      " 1   age                1596 non-null   Int64 \n",
      " 2   city               1656 non-null   object\n",
      " 3   education          1440 non-null   object\n",
      " 4   employment_status  1656 non-null   object\n",
      " 5   salary             1647 non-null   Int64 \n",
      " 6   health_condition   1611 non-null   object\n",
      " 7   credit_score       1143 non-null   Int64 \n",
      "dtypes: Int64(3), object(5)\n",
      "memory usage: 108.5+ KB\n"
     ]
    }
   ],
   "source": [
    "employment_health.info()"
   ]
  },
  {
   "cell_type": "code",
   "execution_count": 11,
   "id": "989eccb0",
   "metadata": {},
   "outputs": [
    {
     "data": {
      "text/html": [
       "<div>\n",
       "<style scoped>\n",
       "    .dataframe tbody tr th:only-of-type {\n",
       "        vertical-align: middle;\n",
       "    }\n",
       "\n",
       "    .dataframe tbody tr th {\n",
       "        vertical-align: top;\n",
       "    }\n",
       "\n",
       "    .dataframe thead th {\n",
       "        text-align: right;\n",
       "    }\n",
       "</style>\n",
       "<table border=\"1\" class=\"dataframe\">\n",
       "  <thead>\n",
       "    <tr style=\"text-align: right;\">\n",
       "      <th></th>\n",
       "      <th>name</th>\n",
       "      <th>age</th>\n",
       "      <th>city</th>\n",
       "      <th>education</th>\n",
       "      <th>employment_status</th>\n",
       "      <th>salary</th>\n",
       "      <th>health_condition</th>\n",
       "      <th>credit_score</th>\n",
       "    </tr>\n",
       "  </thead>\n",
       "  <tbody>\n",
       "    <tr>\n",
       "      <th>0</th>\n",
       "      <td>GARCIA JUAN</td>\n",
       "      <td>78</td>\n",
       "      <td>Albuquerque</td>\n",
       "      <td>Bachelor</td>\n",
       "      <td>Employed</td>\n",
       "      <td>80000</td>\n",
       "      <td>Good</td>\n",
       "      <td>720</td>\n",
       "    </tr>\n",
       "    <tr>\n",
       "      <th>1</th>\n",
       "      <td>MONTOYA CAMERON</td>\n",
       "      <td>17</td>\n",
       "      <td>Albuque</td>\n",
       "      <td>Associate</td>\n",
       "      <td>Unemployed</td>\n",
       "      <td>0</td>\n",
       "      <td>Excellent</td>\n",
       "      <td>&lt;NA&gt;</td>\n",
       "    </tr>\n",
       "    <tr>\n",
       "      <th>2</th>\n",
       "      <td>SATTERFIELD VIVIANA</td>\n",
       "      <td>15</td>\n",
       "      <td>Albuque</td>\n",
       "      <td>PhD</td>\n",
       "      <td>Self-employed</td>\n",
       "      <td>120000</td>\n",
       "      <td>Poor</td>\n",
       "      <td>550</td>\n",
       "    </tr>\n",
       "  </tbody>\n",
       "</table>\n",
       "</div>"
      ],
      "text/plain": [
       "                  name  age         city  education employment_status  salary  \\\n",
       "0          GARCIA JUAN   78  Albuquerque   Bachelor          Employed   80000   \n",
       "1      MONTOYA CAMERON   17      Albuque  Associate        Unemployed       0   \n",
       "2  SATTERFIELD VIVIANA   15      Albuque        PhD     Self-employed  120000   \n",
       "\n",
       "  health_condition  credit_score  \n",
       "0             Good           720  \n",
       "1        Excellent          <NA>  \n",
       "2             Poor           550  "
      ]
     },
     "execution_count": 11,
     "metadata": {},
     "output_type": "execute_result"
    }
   ],
   "source": [
    "employment_health.head(3)"
   ]
  },
  {
   "cell_type": "code",
   "execution_count": 12,
   "id": "78af02cf",
   "metadata": {},
   "outputs": [
    {
     "data": {
      "text/plain": [
       "0"
      ]
     },
     "execution_count": 12,
     "metadata": {},
     "output_type": "execute_result"
    }
   ],
   "source": [
    "employment_health.duplicated().sum()"
   ]
  },
  {
   "cell_type": "code",
   "execution_count": 13,
   "id": "506ad97a",
   "metadata": {
    "scrolled": true
   },
   "outputs": [
    {
     "data": {
      "text/plain": [
       "name                 1650\n",
       "age                    90\n",
       "city                    7\n",
       "education               7\n",
       "employment_status      15\n",
       "salary                 35\n",
       "health_condition        5\n",
       "credit_score           41\n",
       "dtype: int64"
      ]
     },
     "execution_count": 13,
     "metadata": {},
     "output_type": "execute_result"
    }
   ],
   "source": [
    "employment_health.nunique()"
   ]
  },
  {
   "cell_type": "markdown",
   "id": "f552fd2c",
   "metadata": {},
   "source": [
    "### Data Cleaning"
   ]
  },
  {
   "cell_type": "code",
   "execution_count": 14,
   "id": "e59897d5",
   "metadata": {},
   "outputs": [
    {
     "name": "stdout",
     "output_type": "stream",
     "text": [
      "Unique values in 'city': ['Albuquerque' 'Albuque' 'ALBUQUERQUE' 'Atlanta' 'Atl' 'Baltimore' 'Balti']\n",
      "Unique values in 'education': ['Bachelor' 'Associate' 'PhD' 'High School' \"Master's\" nan \"Bachelor's\"\n",
      " 'High School (GED)']\n",
      "Unique values in 'employment_status': ['Employed' 'Unemployed' 'Self-employed' 'Retired' 'Student' 'Freelance'\n",
      " 'Student (Part-time)' 'Retired (Early)' 'Employed (Gig Work)'\n",
      " 'Student (Full-time)' 'Employed (Part-time)' 'Gig Worker'\n",
      " 'Employed (Contract)' 'Self-employed (Business Closed)'\n",
      " 'Student (Internship)']\n",
      "Unique values in 'health_condition': ['Good' 'Excellent' 'Poor' 'Average' nan 'Excellent (?!)']\n"
     ]
    }
   ],
   "source": [
    "# List of columns(Categogical variables) in your dataset\n",
    "columns = employment_health[['city','education','employment_status','health_condition'\n",
    "                       ]]\n",
    "\n",
    "# Loop through each column and print the unique values\n",
    "for column in columns:\n",
    "    unique_values =employment_health[column].unique()\n",
    "    print(f\"Unique values in '{column}': {unique_values}\")"
   ]
  },
  {
   "cell_type": "code",
   "execution_count": 15,
   "id": "fc451724",
   "metadata": {},
   "outputs": [
    {
     "name": "stdout",
     "output_type": "stream",
     "text": [
      "['Albuquerque' 'Atlanta' 'Baltimore']\n"
     ]
    }
   ],
   "source": [
    "#Consolidated similar names into a single standardized form by using 'Mapping Approach'\n",
    "\n",
    "# Define a mapping for the city names\n",
    "city_mapping = {\n",
    "    'Albuquerque': 'Albuquerque',\n",
    "    'Albuque': 'Albuquerque',\n",
    "    'ALBUQUERQUE': 'Albuquerque',\n",
    "    'Atlanta': 'Atlanta',\n",
    "    'Atl': 'Atlanta',\n",
    "    'Baltimore': 'Baltimore',\n",
    "    'Balti': 'Baltimore'\n",
    "}\n",
    "\n",
    "# Replace the city names in the dataset using the mapping\n",
    "employment_health['city'] = employment_health['city'].replace(city_mapping)\n",
    "\n",
    "# Verify the changes\n",
    "unique_cities = employment_health['city'].unique()\n",
    "print(unique_cities)"
   ]
  },
  {
   "cell_type": "code",
   "execution_count": 16,
   "id": "eda0afe7",
   "metadata": {},
   "outputs": [
    {
     "name": "stdout",
     "output_type": "stream",
     "text": [
      "[\"Bachelor's\" 'Associate' 'PhD' 'High School' \"Master's\" nan\n",
      " 'High School (GED)']\n"
     ]
    }
   ],
   "source": [
    "# Define a mapping for the education\n",
    "education_mapping = {\n",
    "    'Bachelor': \"Bachelor's\",\n",
    "    'Bachelors ': \"Bachelor's\",\n",
    "    \n",
    "}\n",
    "\n",
    "# Replace the education names in the dataset using the mapping\n",
    "employment_health['education'] = employment_health['education'].replace(education_mapping)\n",
    "\n",
    "\n",
    "\n",
    "# Verify the changes\n",
    "unique_education = employment_health['education'].unique()\n",
    "print(unique_education)"
   ]
  },
  {
   "cell_type": "code",
   "execution_count": 17,
   "id": "ff0b8da2",
   "metadata": {},
   "outputs": [
    {
     "data": {
      "text/plain": [
       "array([\"Bachelor's\", 'Associate', 'PhD', 'High School', \"Master's\",\n",
       "       'Unspecified', 'High School (GED)'], dtype=object)"
      ]
     },
     "execution_count": 17,
     "metadata": {},
     "output_type": "execute_result"
    }
   ],
   "source": [
    "# Handle missing values\n",
    "employment_health['education'] = employment_health['education'].fillna('Unspecified')\n",
    "\n",
    "employment_health['education'].unique()"
   ]
  },
  {
   "cell_type": "code",
   "execution_count": 18,
   "id": "a7a4c2a9",
   "metadata": {},
   "outputs": [
    {
     "name": "stdout",
     "output_type": "stream",
     "text": [
      "['Employed(Full-time)' 'Unemployed' 'Self-employed' 'Retired' 'Student'\n",
      " 'Freelance' 'Student (Part-time)' 'Retired (Early)' 'Gig Worker'\n",
      " 'Student (Full-time)' 'Employed (Part-time)' 'Employed (Contract)'\n",
      " 'Former Business Owner' 'Student (Internship)']\n"
     ]
    }
   ],
   "source": [
    "#Use conditional statements to perform replacements\n",
    "\n",
    "# Original list\n",
    "employment_status = ['Employed', 'Unemployed', 'Self-employed', 'Retired', 'Student',\n",
    "                 'Freelance', 'Student (Part-time)', 'Retired (Early)',\n",
    "                 'Employed (Gig Work)', 'Student (Full-time)',\n",
    "                 'Employed (Part-time)', 'Gig Worker', 'Employed (Contract)',\n",
    "                 'Self-employed (Business Closed)', 'Student (Internship)']\n",
    "\n",
    "# Define replacements\n",
    "replacements = {\n",
    "    'Employed':'Employed(Full-time)',\n",
    "    'Self-employed (Business Closed)': 'Former Business Owner',\n",
    "    'Employed (Gig Work)': 'Gig Worker'\n",
    "}\n",
    "\n",
    "# Perform replacements in the DataFrame\n",
    "employment_health['employment_status'] = employment_health['employment_status'].replace(replacements)\n",
    "\n",
    "# Verify the changes\n",
    "unique_employment_status = employment_health['employment_status'].unique()\n",
    "print(unique_employment_status)\n",
    "\n",
    "\n",
    "\n"
   ]
  },
  {
   "cell_type": "code",
   "execution_count": 19,
   "id": "4b06f6f3",
   "metadata": {},
   "outputs": [
    {
     "name": "stdout",
     "output_type": "stream",
     "text": [
      "['Good' 'Excellent' 'Poor' 'Average' nan]\n"
     ]
    }
   ],
   "source": [
    "# Define a mapping for health_condition\n",
    "health_mapping = {\n",
    "    'Excellent (?!)': \"Excellent\",\n",
    "    'Excellent ': \"Excellent\",\n",
    "    \n",
    "}\n",
    "\n",
    "# Replace the healt_condition names in the dataset using the mapping\n",
    "employment_health['health_condition'] = employment_health['health_condition'].replace(health_mapping)\n",
    "\n",
    "# Verify the changes\n",
    "unique_health_condition = employment_health['health_condition'].unique()\n",
    "print(unique_health_condition)"
   ]
  },
  {
   "cell_type": "code",
   "execution_count": 20,
   "id": "6efff9e5",
   "metadata": {},
   "outputs": [
    {
     "data": {
      "text/plain": [
       "array(['Good', 'Excellent', 'Poor', 'Average', 'Unspecified'],\n",
       "      dtype=object)"
      ]
     },
     "execution_count": 20,
     "metadata": {},
     "output_type": "execute_result"
    }
   ],
   "source": [
    "# Handle missing values\n",
    "employment_health['health_condition'] = employment_health['health_condition'].fillna('Unspecified')\n",
    "\n",
    "employment_health['health_condition'].unique()"
   ]
  },
  {
   "cell_type": "code",
   "execution_count": 21,
   "id": "ec441ec1",
   "metadata": {},
   "outputs": [
    {
     "name": "stdout",
     "output_type": "stream",
     "text": [
      "Unique values in 'city': ['Albuquerque' 'Atlanta' 'Baltimore']\n",
      "Unique values in 'education': [\"Bachelor's\" 'Associate' 'PhD' 'High School' \"Master's\" 'Unspecified'\n",
      " 'High School (GED)']\n",
      "Unique values in 'employment_status': ['Employed(Full-time)' 'Unemployed' 'Self-employed' 'Retired' 'Student'\n",
      " 'Freelance' 'Student (Part-time)' 'Retired (Early)' 'Gig Worker'\n",
      " 'Student (Full-time)' 'Employed (Part-time)' 'Employed (Contract)'\n",
      " 'Former Business Owner' 'Student (Internship)']\n",
      "Unique values in 'health_condition': ['Good' 'Excellent' 'Poor' 'Average' 'Unspecified']\n"
     ]
    }
   ],
   "source": [
    "# Loop through each column and print the unique values\n",
    "for column in columns:\n",
    "    unique_values =employment_health[column].unique()\n",
    "    print(f\"Unique values in '{column}': {unique_values}\")"
   ]
  },
  {
   "cell_type": "code",
   "execution_count": 22,
   "id": "166d1b01",
   "metadata": {},
   "outputs": [
    {
     "name": "stdout",
     "output_type": "stream",
     "text": [
      "<class 'pandas.core.frame.DataFrame'>\n",
      "RangeIndex: 1656 entries, 0 to 1655\n",
      "Data columns (total 8 columns):\n",
      " #   Column             Non-Null Count  Dtype \n",
      "---  ------             --------------  ----- \n",
      " 0   name               1656 non-null   object\n",
      " 1   age                1596 non-null   Int64 \n",
      " 2   city               1656 non-null   object\n",
      " 3   education          1656 non-null   object\n",
      " 4   employment_status  1656 non-null   object\n",
      " 5   salary             1647 non-null   Int64 \n",
      " 6   health_condition   1656 non-null   object\n",
      " 7   credit_score       1143 non-null   Int64 \n",
      "dtypes: Int64(3), object(5)\n",
      "memory usage: 108.5+ KB\n"
     ]
    }
   ],
   "source": [
    "employment_health.info()"
   ]
  },
  {
   "cell_type": "markdown",
   "id": "6b0c74e6",
   "metadata": {},
   "source": []
  },
  {
   "cell_type": "code",
   "execution_count": 23,
   "id": "a4fe0e31",
   "metadata": {},
   "outputs": [
    {
     "data": {
      "text/html": [
       "<div>\n",
       "<style scoped>\n",
       "    .dataframe tbody tr th:only-of-type {\n",
       "        vertical-align: middle;\n",
       "    }\n",
       "\n",
       "    .dataframe tbody tr th {\n",
       "        vertical-align: top;\n",
       "    }\n",
       "\n",
       "    .dataframe thead th {\n",
       "        text-align: right;\n",
       "    }\n",
       "</style>\n",
       "<table border=\"1\" class=\"dataframe\">\n",
       "  <thead>\n",
       "    <tr style=\"text-align: right;\">\n",
       "      <th></th>\n",
       "      <th>name</th>\n",
       "      <th>age</th>\n",
       "      <th>city</th>\n",
       "      <th>education</th>\n",
       "      <th>employment_status</th>\n",
       "      <th>salary</th>\n",
       "      <th>health_condition</th>\n",
       "      <th>credit_score</th>\n",
       "    </tr>\n",
       "  </thead>\n",
       "  <tbody>\n",
       "    <tr>\n",
       "      <th>0</th>\n",
       "      <td>GARCIA JUAN</td>\n",
       "      <td>78</td>\n",
       "      <td>Albuquerque</td>\n",
       "      <td>Bachelor's</td>\n",
       "      <td>Employed(Full-time)</td>\n",
       "      <td>80000</td>\n",
       "      <td>Good</td>\n",
       "      <td>720</td>\n",
       "    </tr>\n",
       "    <tr>\n",
       "      <th>1</th>\n",
       "      <td>MONTOYA CAMERON</td>\n",
       "      <td>17</td>\n",
       "      <td>Albuquerque</td>\n",
       "      <td>Associate</td>\n",
       "      <td>Unemployed</td>\n",
       "      <td>0</td>\n",
       "      <td>Excellent</td>\n",
       "      <td>&lt;NA&gt;</td>\n",
       "    </tr>\n",
       "    <tr>\n",
       "      <th>2</th>\n",
       "      <td>SATTERFIELD VIVIANA</td>\n",
       "      <td>15</td>\n",
       "      <td>Albuquerque</td>\n",
       "      <td>PhD</td>\n",
       "      <td>Self-employed</td>\n",
       "      <td>120000</td>\n",
       "      <td>Poor</td>\n",
       "      <td>550</td>\n",
       "    </tr>\n",
       "    <tr>\n",
       "      <th>3</th>\n",
       "      <td>MENDIOLA CARLOS</td>\n",
       "      <td>32</td>\n",
       "      <td>Albuquerque</td>\n",
       "      <td>High School</td>\n",
       "      <td>Employed(Full-time)</td>\n",
       "      <td>45000</td>\n",
       "      <td>Excellent</td>\n",
       "      <td>800</td>\n",
       "    </tr>\n",
       "    <tr>\n",
       "      <th>4</th>\n",
       "      <td>MULA VIVIAN</td>\n",
       "      <td>72</td>\n",
       "      <td>Albuquerque</td>\n",
       "      <td>Master's</td>\n",
       "      <td>Retired</td>\n",
       "      <td>50000</td>\n",
       "      <td>Average</td>\n",
       "      <td>680</td>\n",
       "    </tr>\n",
       "  </tbody>\n",
       "</table>\n",
       "</div>"
      ],
      "text/plain": [
       "                  name  age         city    education    employment_status  \\\n",
       "0          GARCIA JUAN   78  Albuquerque   Bachelor's  Employed(Full-time)   \n",
       "1      MONTOYA CAMERON   17  Albuquerque    Associate           Unemployed   \n",
       "2  SATTERFIELD VIVIANA   15  Albuquerque          PhD        Self-employed   \n",
       "3      MENDIOLA CARLOS   32  Albuquerque  High School  Employed(Full-time)   \n",
       "4          MULA VIVIAN   72  Albuquerque     Master's              Retired   \n",
       "\n",
       "   salary health_condition  credit_score  \n",
       "0   80000             Good           720  \n",
       "1       0        Excellent          <NA>  \n",
       "2  120000             Poor           550  \n",
       "3   45000        Excellent           800  \n",
       "4   50000          Average           680  "
      ]
     },
     "execution_count": 23,
     "metadata": {},
     "output_type": "execute_result"
    }
   ],
   "source": [
    "employment_health.head()"
   ]
  },
  {
   "cell_type": "markdown",
   "id": "71542ced",
   "metadata": {},
   "source": [
    "### Exploratory Data Analysis (EDA)\n",
    "\n",
    "##### Check for outliers in age, credit score and salary"
   ]
  },
  {
   "cell_type": "code",
   "execution_count": 24,
   "id": "5b1fcff3",
   "metadata": {},
   "outputs": [
    {
     "data": {
      "text/html": [
       "<div>\n",
       "<style scoped>\n",
       "    .dataframe tbody tr th:only-of-type {\n",
       "        vertical-align: middle;\n",
       "    }\n",
       "\n",
       "    .dataframe tbody tr th {\n",
       "        vertical-align: top;\n",
       "    }\n",
       "\n",
       "    .dataframe thead th {\n",
       "        text-align: right;\n",
       "    }\n",
       "</style>\n",
       "<table border=\"1\" class=\"dataframe\">\n",
       "  <thead>\n",
       "    <tr style=\"text-align: right;\">\n",
       "      <th></th>\n",
       "      <th>count</th>\n",
       "      <th>mean</th>\n",
       "      <th>std</th>\n",
       "      <th>min</th>\n",
       "      <th>25%</th>\n",
       "      <th>50%</th>\n",
       "      <th>75%</th>\n",
       "      <th>max</th>\n",
       "    </tr>\n",
       "  </thead>\n",
       "  <tbody>\n",
       "    <tr>\n",
       "      <th>age</th>\n",
       "      <td>1596.0</td>\n",
       "      <td>32.97807</td>\n",
       "      <td>14.858839</td>\n",
       "      <td>0.0</td>\n",
       "      <td>23.0</td>\n",
       "      <td>30.0</td>\n",
       "      <td>42.0</td>\n",
       "      <td>101.0</td>\n",
       "    </tr>\n",
       "    <tr>\n",
       "      <th>salary</th>\n",
       "      <td>1647.0</td>\n",
       "      <td>43902.273224</td>\n",
       "      <td>44828.394352</td>\n",
       "      <td>0.0</td>\n",
       "      <td>0.0</td>\n",
       "      <td>35000.0</td>\n",
       "      <td>80000.0</td>\n",
       "      <td>150000.0</td>\n",
       "    </tr>\n",
       "    <tr>\n",
       "      <th>credit_score</th>\n",
       "      <td>1143.0</td>\n",
       "      <td>681.19685</td>\n",
       "      <td>121.541589</td>\n",
       "      <td>400.0</td>\n",
       "      <td>610.0</td>\n",
       "      <td>710.0</td>\n",
       "      <td>780.0</td>\n",
       "      <td>880.0</td>\n",
       "    </tr>\n",
       "  </tbody>\n",
       "</table>\n",
       "</div>"
      ],
      "text/plain": [
       "               count          mean           std    min    25%      50%  \\\n",
       "age           1596.0      32.97807     14.858839    0.0   23.0     30.0   \n",
       "salary        1647.0  43902.273224  44828.394352    0.0    0.0  35000.0   \n",
       "credit_score  1143.0     681.19685    121.541589  400.0  610.0    710.0   \n",
       "\n",
       "                  75%       max  \n",
       "age              42.0     101.0  \n",
       "salary        80000.0  150000.0  \n",
       "credit_score    780.0     880.0  "
      ]
     },
     "execution_count": 24,
     "metadata": {},
     "output_type": "execute_result"
    }
   ],
   "source": [
    "# Conducting descriptive analysis using the describe function and refining the output for better readability\n",
    "employment_health.describe().T"
   ]
  },
  {
   "cell_type": "code",
   "execution_count": 25,
   "id": "e572eda7",
   "metadata": {},
   "outputs": [
    {
     "name": "stdout",
     "output_type": "stream",
     "text": [
      "Outliers in 'age' column:\n",
      "0        78\n",
      "4        72\n",
      "5        91\n",
      "24       88\n",
      "37       95\n",
      "89       94\n",
      "105      74\n",
      "137      74\n",
      "181      90\n",
      "349      73\n",
      "382      75\n",
      "497      78\n",
      "524     101\n",
      "667      77\n",
      "750      92\n",
      "782      71\n",
      "807      82\n",
      "984      84\n",
      "987      76\n",
      "1056     76\n",
      "1186     81\n",
      "1261     89\n",
      "1349     83\n",
      "1475     72\n",
      "1577     81\n",
      "Name: age, dtype: Int64\n"
     ]
    }
   ],
   "source": [
    "# Function to detect outliers using the IQR method\n",
    "def detect_outliers_iqr(column):\n",
    "    Q1 = column.quantile(0.25)\n",
    "    Q3 = column.quantile(0.75)\n",
    "    IQR = Q3 - Q1\n",
    "    lower_bound = Q1 - 1.5 * IQR\n",
    "    upper_bound = Q3 + 1.5 * IQR\n",
    "    outliers = column[(column < lower_bound) | (column > upper_bound)]\n",
    "    return outliers\n",
    "\n",
    "# Check for outliers in the 'age' column\n",
    "age_outliers = detect_outliers_iqr(employment_health['age'])\n",
    "print(\"Outliers in 'age' column:\")\n",
    "print(age_outliers)\n"
   ]
  },
  {
   "cell_type": "code",
   "execution_count": 26,
   "id": "101da7bd",
   "metadata": {},
   "outputs": [
    {
     "name": "stdout",
     "output_type": "stream",
     "text": [
      "\n",
      "Outliers in 'salary' column:\n",
      "Series([], Name: salary, dtype: Int64)\n"
     ]
    }
   ],
   "source": [
    "# Check for outliers in the 'salary' column\n",
    "salary_outliers = detect_outliers_iqr(employment_health['salary'])\n",
    "print(\"\\nOutliers in 'salary' column:\")\n",
    "print(salary_outliers)\n"
   ]
  },
  {
   "cell_type": "code",
   "execution_count": 27,
   "id": "0259be61",
   "metadata": {},
   "outputs": [
    {
     "name": "stdout",
     "output_type": "stream",
     "text": [
      "\n",
      "Outliers in 'credit_score' column:\n",
      "Series([], Name: credit_score, dtype: Int64)\n"
     ]
    }
   ],
   "source": [
    "# Check for outliers in the 'credit_score' column\n",
    "credit_score_outliers = detect_outliers_iqr(employment_health['credit_score'])\n",
    "print(\"\\nOutliers in 'credit_score' column:\")\n",
    "print(credit_score_outliers)\n"
   ]
  },
  {
   "cell_type": "markdown",
   "id": "08f6ee06",
   "metadata": {},
   "source": [
    "###### Visualize outliers"
   ]
  },
  {
   "cell_type": "code",
   "execution_count": 28,
   "id": "217e368d",
   "metadata": {},
   "outputs": [
    {
     "data": {
      "image/png": "[encoded data removed]",
      "text/plain": [
       "<Figure size 1800x600 with 3 Axes>"
      ]
     },
     "metadata": {},
     "output_type": "display_data"
    }
   ],
   "source": [
    "\n",
    "# Create a 1x3 subplot to visualize outliers for age, salary, and credit score\n",
    "fig, axes = plt.subplots(1, 3, figsize=(18, 6))\n",
    "\n",
    "# Box plot for 'age'\n",
    "sns.boxplot(x=employment_health['age'], ax=axes[0])\n",
    "axes[0].set_title('Age Distribution',fontweight='bold')\n",
    "axes[0].set_xlabel('Age')\n",
    "\n",
    "# Box plot for 'salary'\n",
    "sns.boxplot(x=employment_health['salary'], ax=axes[1])\n",
    "axes[1].set_title('Salary Distribution',fontweight='bold')\n",
    "axes[1].set_xlabel('Salary')\n",
    "\n",
    "# Box plot for 'credit_score'\n",
    "sns.boxplot(x=employment_health['credit_score'], ax=axes[2])\n",
    "axes[2].set_title('Credit Score Distribution',fontweight='bold')\n",
    "axes[2].set_xlabel('Credit Score')\n",
    "\n",
    "\n",
    "# Display the plots\n",
    "plt.tight_layout()\n",
    "plt.show()\n"
   ]
  },
  {
   "cell_type": "markdown",
   "id": "3234381c",
   "metadata": {},
   "source": [
    "From the above:\n",
    "\n",
    "age: With a median age of 30 years, older Indivuduals are the outliers as their age is significantly above the 75%(percentile) 41 years\n",
    "\n",
    "There are no outliers in salary and credit_score distribution."
   ]
  },
  {
   "cell_type": "markdown",
   "id": "5d6f9c7e",
   "metadata": {},
   "source": [
    "##### Find Correlation"
   ]
  },
  {
   "cell_type": "code",
   "execution_count": 29,
   "id": "5ee91dd1",
   "metadata": {},
   "outputs": [
    {
     "name": "stdout",
     "output_type": "stream",
     "text": [
      "Correlation Matrix:\n",
      "                   age    salary  credit_score\n",
      "age           1.000000  0.018584     -0.044685\n",
      "salary        0.018584  1.000000      0.651599\n",
      "credit_score -0.044685  0.651599      1.000000\n"
     ]
    },
    {
     "name": "stderr",
     "output_type": "stream",
     "text": [
      "C:\\Users\\USER\\anaconda3\\Lib\\site-packages\\seaborn\\axisgrid.py:118: UserWarning: The figure layout has changed to tight\n",
      "  self._figure.tight_layout(*args, **kwargs)\n"
     ]
    },
    {
     "data": {
      "image/png": "[encoded data removed]",
      "text/plain": [
       "<Figure size 750x750 with 12 Axes>"
      ]
     },
     "metadata": {},
     "output_type": "display_data"
    }
   ],
   "source": [
    "# Correlation analysis\n",
    "\n",
    "corr_matrix = employment_health[['age','salary','credit_score']].corr()\n",
    "\n",
    "print('Correlation Matrix:')\n",
    "print(corr_matrix)\n",
    "\n",
    "\n",
    "#Visualization (reate a scatterplot matrix)\n",
    "sns.pairplot(corr_matrix)\n",
    "plt.suptitle('Scatter Plot Matrix', y=1.02)\n",
    "plt.show()\n",
    "\n",
    "\n"
   ]
  },
  {
   "cell_type": "code",
   "execution_count": 30,
   "id": "c183dd24",
   "metadata": {},
   "outputs": [
    {
     "data": {
      "image/png": "[encoded data removed]",
      "text/plain": [
       "<Figure size 800x600 with 2 Axes>"
      ]
     },
     "metadata": {},
     "output_type": "display_data"
    }
   ],
   "source": [
    "# Heatmap of the correlation matrix\n",
    "plt.figure(figsize = (8,6))\n",
    "sns.heatmap(corr_matrix,annot=True,cmap='coolwarm',fmt='.2f')\n",
    "plt.title('Correlation Matrix Heatmap')\n",
    "plt.show()\n",
    "\n"
   ]
  },
  {
   "cell_type": "markdown",
   "id": "5ec1871a",
   "metadata": {},
   "source": [
    "There is no correlation between age and _credit_score\n",
    "There is a week correlation between age and salary\n",
    "There is a strong correlation between 'salary' and 'credit_score'"
   ]
  },
  {
   "cell_type": "code",
   "execution_count": 31,
   "id": "a235b052",
   "metadata": {},
   "outputs": [
    {
     "name": "stdout",
     "output_type": "stream",
     "text": [
      "<class 'pandas.core.frame.DataFrame'>\n",
      "RangeIndex: 1656 entries, 0 to 1655\n",
      "Data columns (total 8 columns):\n",
      " #   Column             Non-Null Count  Dtype \n",
      "---  ------             --------------  ----- \n",
      " 0   name               1656 non-null   object\n",
      " 1   age                1596 non-null   Int64 \n",
      " 2   city               1656 non-null   object\n",
      " 3   education          1656 non-null   object\n",
      " 4   employment_status  1656 non-null   object\n",
      " 5   salary             1647 non-null   Int64 \n",
      " 6   health_condition   1656 non-null   object\n",
      " 7   credit_score       1143 non-null   Int64 \n",
      "dtypes: Int64(3), object(5)\n",
      "memory usage: 108.5+ KB\n"
     ]
    }
   ],
   "source": [
    "employment_health.info()"
   ]
  },
  {
   "cell_type": "markdown",
   "id": "3865abac",
   "metadata": {},
   "source": [
    "### Since there are few null values in 'age', 'salary', and 'credit_score column' we will fill them with median value of each variable respectively."
   ]
  },
  {
   "cell_type": "code",
   "execution_count": 32,
   "id": "28f80885",
   "metadata": {},
   "outputs": [],
   "source": [
    "employment_health['age'] = employment_health['age'].fillna(employment_health['age'].median())\n",
    "employment_health['salary'] = employment_health['salary'].fillna(employment_health['salary'].median())\n",
    "employment_health['credit_score'] = employment_health['credit_score'].fillna(employment_health['credit_score'].median())\n",
    "\n",
    "\n",
    "\n",
    "#The median is used because it is a nbetter measure than mean when daeling with outliers because:\n",
    "#It is more roboust to ouliers because it focuses on middle values\n",
    "#It is less affected by skewed distributions\n",
    "#It provides a better representation of the typical valuein a datasese expeciallywhen utliers are present"
   ]
  },
  {
   "cell_type": "code",
   "execution_count": 33,
   "id": "07f43f08",
   "metadata": {},
   "outputs": [
    {
     "name": "stdout",
     "output_type": "stream",
     "text": [
      "<class 'pandas.core.frame.DataFrame'>\n",
      "RangeIndex: 1656 entries, 0 to 1655\n",
      "Data columns (total 8 columns):\n",
      " #   Column             Non-Null Count  Dtype \n",
      "---  ------             --------------  ----- \n",
      " 0   name               1656 non-null   object\n",
      " 1   age                1656 non-null   Int64 \n",
      " 2   city               1656 non-null   object\n",
      " 3   education          1656 non-null   object\n",
      " 4   employment_status  1656 non-null   object\n",
      " 5   salary             1656 non-null   Int64 \n",
      " 6   health_condition   1656 non-null   object\n",
      " 7   credit_score       1656 non-null   Int64 \n",
      "dtypes: Int64(3), object(5)\n",
      "memory usage: 108.5+ KB\n"
     ]
    }
   ],
   "source": [
    "employment_health.info()\n"
   ]
  },
  {
   "cell_type": "code",
   "execution_count": 34,
   "id": "99ea991b",
   "metadata": {},
   "outputs": [
    {
     "data": {
      "text/html": [
       "<div>\n",
       "<style scoped>\n",
       "    .dataframe tbody tr th:only-of-type {\n",
       "        vertical-align: middle;\n",
       "    }\n",
       "\n",
       "    .dataframe tbody tr th {\n",
       "        vertical-align: top;\n",
       "    }\n",
       "\n",
       "    .dataframe thead th {\n",
       "        text-align: right;\n",
       "    }\n",
       "</style>\n",
       "<table border=\"1\" class=\"dataframe\">\n",
       "  <thead>\n",
       "    <tr style=\"text-align: right;\">\n",
       "      <th></th>\n",
       "      <th>name</th>\n",
       "      <th>age</th>\n",
       "      <th>city</th>\n",
       "      <th>education</th>\n",
       "      <th>employment_status</th>\n",
       "      <th>salary</th>\n",
       "      <th>health_condition</th>\n",
       "      <th>credit_score</th>\n",
       "    </tr>\n",
       "  </thead>\n",
       "  <tbody>\n",
       "    <tr>\n",
       "      <th>0</th>\n",
       "      <td>GARCIA JUAN</td>\n",
       "      <td>78</td>\n",
       "      <td>Albuquerque</td>\n",
       "      <td>Bachelor's</td>\n",
       "      <td>Employed(Full-time)</td>\n",
       "      <td>80000</td>\n",
       "      <td>Good</td>\n",
       "      <td>720</td>\n",
       "    </tr>\n",
       "    <tr>\n",
       "      <th>1</th>\n",
       "      <td>MONTOYA CAMERON</td>\n",
       "      <td>17</td>\n",
       "      <td>Albuquerque</td>\n",
       "      <td>Associate</td>\n",
       "      <td>Unemployed</td>\n",
       "      <td>0</td>\n",
       "      <td>Excellent</td>\n",
       "      <td>710</td>\n",
       "    </tr>\n",
       "    <tr>\n",
       "      <th>2</th>\n",
       "      <td>SATTERFIELD VIVIANA</td>\n",
       "      <td>15</td>\n",
       "      <td>Albuquerque</td>\n",
       "      <td>PhD</td>\n",
       "      <td>Self-employed</td>\n",
       "      <td>120000</td>\n",
       "      <td>Poor</td>\n",
       "      <td>550</td>\n",
       "    </tr>\n",
       "    <tr>\n",
       "      <th>3</th>\n",
       "      <td>MENDIOLA CARLOS</td>\n",
       "      <td>32</td>\n",
       "      <td>Albuquerque</td>\n",
       "      <td>High School</td>\n",
       "      <td>Employed(Full-time)</td>\n",
       "      <td>45000</td>\n",
       "      <td>Excellent</td>\n",
       "      <td>800</td>\n",
       "    </tr>\n",
       "    <tr>\n",
       "      <th>4</th>\n",
       "      <td>MULA VIVIAN</td>\n",
       "      <td>72</td>\n",
       "      <td>Albuquerque</td>\n",
       "      <td>Master's</td>\n",
       "      <td>Retired</td>\n",
       "      <td>50000</td>\n",
       "      <td>Average</td>\n",
       "      <td>680</td>\n",
       "    </tr>\n",
       "  </tbody>\n",
       "</table>\n",
       "</div>"
      ],
      "text/plain": [
       "                  name  age         city    education    employment_status  \\\n",
       "0          GARCIA JUAN   78  Albuquerque   Bachelor's  Employed(Full-time)   \n",
       "1      MONTOYA CAMERON   17  Albuquerque    Associate           Unemployed   \n",
       "2  SATTERFIELD VIVIANA   15  Albuquerque          PhD        Self-employed   \n",
       "3      MENDIOLA CARLOS   32  Albuquerque  High School  Employed(Full-time)   \n",
       "4          MULA VIVIAN   72  Albuquerque     Master's              Retired   \n",
       "\n",
       "   salary health_condition  credit_score  \n",
       "0   80000             Good           720  \n",
       "1       0        Excellent           710  \n",
       "2  120000             Poor           550  \n",
       "3   45000        Excellent           800  \n",
       "4   50000          Average           680  "
      ]
     },
     "execution_count": 34,
     "metadata": {},
     "output_type": "execute_result"
    }
   ],
   "source": [
    "employment_health.head()"
   ]
  },
  {
   "cell_type": "markdown",
   "id": "95b72610",
   "metadata": {},
   "source": [
    "### Pre-Processing\n",
    "\n",
    "#### Create a categorized credit score column based on FICO system which isthe most widely used credit score system used in the USA"
   ]
  },
  {
   "cell_type": "code",
   "execution_count": 35,
   "id": "6d891299",
   "metadata": {},
   "outputs": [
    {
     "name": "stdout",
     "output_type": "stream",
     "text": [
      "   credit_score credit_score_category\n",
      "0           720                  Good\n",
      "1           710                  Good\n",
      "2           550                  Poor\n",
      "3           800             Excellent\n",
      "4           680                  Good\n"
     ]
    }
   ],
   "source": [
    "# Define the function to categorize credit scores based on the FICO system\n",
    "def categorize_credit_score(score):\n",
    "    if pd.isna(score):\n",
    "        return 'Unspecified'  # Handle NaN values\n",
    "    elif score >= 300 and score <= 579:\n",
    "        return 'Poor'\n",
    "    elif score >= 580 and score <= 669:\n",
    "        return 'Fair'\n",
    "    elif score >= 670 and score <= 739:\n",
    "        return 'Good'\n",
    "    elif score >= 740 and score <= 799:\n",
    "        return 'Very Good'\n",
    "    elif score >= 800 and score <= 850:\n",
    "        return 'Excellent'\n",
    "    else:\n",
    "        return 'Unspecified'  # For scores outside the FICO range or invalid scores\n",
    "\n",
    "# Apply the function to create a new categorical column\n",
    "employment_health['credit_score_category'] = employment_health['credit_score'].apply(categorize_credit_score)\n",
    "\n",
    "# Display the first few rows of the updated dataset\n",
    "print(employment_health[['credit_score', 'credit_score_category']].head())\n"
   ]
  },
  {
   "cell_type": "code",
   "execution_count": 36,
   "id": "9e7a873e",
   "metadata": {},
   "outputs": [
    {
     "data": {
      "text/html": [
       "<div>\n",
       "<style scoped>\n",
       "    .dataframe tbody tr th:only-of-type {\n",
       "        vertical-align: middle;\n",
       "    }\n",
       "\n",
       "    .dataframe tbody tr th {\n",
       "        vertical-align: top;\n",
       "    }\n",
       "\n",
       "    .dataframe thead th {\n",
       "        text-align: right;\n",
       "    }\n",
       "</style>\n",
       "<table border=\"1\" class=\"dataframe\">\n",
       "  <thead>\n",
       "    <tr style=\"text-align: right;\">\n",
       "      <th></th>\n",
       "      <th>name</th>\n",
       "      <th>age</th>\n",
       "      <th>city</th>\n",
       "      <th>education</th>\n",
       "      <th>employment_status</th>\n",
       "      <th>salary</th>\n",
       "      <th>health_condition</th>\n",
       "      <th>credit_score</th>\n",
       "      <th>credit_score_category</th>\n",
       "    </tr>\n",
       "  </thead>\n",
       "  <tbody>\n",
       "    <tr>\n",
       "      <th>0</th>\n",
       "      <td>GARCIA JUAN</td>\n",
       "      <td>78</td>\n",
       "      <td>Albuquerque</td>\n",
       "      <td>Bachelor's</td>\n",
       "      <td>Employed(Full-time)</td>\n",
       "      <td>80000</td>\n",
       "      <td>Good</td>\n",
       "      <td>720</td>\n",
       "      <td>Good</td>\n",
       "    </tr>\n",
       "    <tr>\n",
       "      <th>1</th>\n",
       "      <td>MONTOYA CAMERON</td>\n",
       "      <td>17</td>\n",
       "      <td>Albuquerque</td>\n",
       "      <td>Associate</td>\n",
       "      <td>Unemployed</td>\n",
       "      <td>0</td>\n",
       "      <td>Excellent</td>\n",
       "      <td>710</td>\n",
       "      <td>Good</td>\n",
       "    </tr>\n",
       "    <tr>\n",
       "      <th>2</th>\n",
       "      <td>SATTERFIELD VIVIANA</td>\n",
       "      <td>15</td>\n",
       "      <td>Albuquerque</td>\n",
       "      <td>PhD</td>\n",
       "      <td>Self-employed</td>\n",
       "      <td>120000</td>\n",
       "      <td>Poor</td>\n",
       "      <td>550</td>\n",
       "      <td>Poor</td>\n",
       "    </tr>\n",
       "    <tr>\n",
       "      <th>3</th>\n",
       "      <td>MENDIOLA CARLOS</td>\n",
       "      <td>32</td>\n",
       "      <td>Albuquerque</td>\n",
       "      <td>High School</td>\n",
       "      <td>Employed(Full-time)</td>\n",
       "      <td>45000</td>\n",
       "      <td>Excellent</td>\n",
       "      <td>800</td>\n",
       "      <td>Excellent</td>\n",
       "    </tr>\n",
       "    <tr>\n",
       "      <th>4</th>\n",
       "      <td>MULA VIVIAN</td>\n",
       "      <td>72</td>\n",
       "      <td>Albuquerque</td>\n",
       "      <td>Master's</td>\n",
       "      <td>Retired</td>\n",
       "      <td>50000</td>\n",
       "      <td>Average</td>\n",
       "      <td>680</td>\n",
       "      <td>Good</td>\n",
       "    </tr>\n",
       "  </tbody>\n",
       "</table>\n",
       "</div>"
      ],
      "text/plain": [
       "                  name  age         city    education    employment_status  \\\n",
       "0          GARCIA JUAN   78  Albuquerque   Bachelor's  Employed(Full-time)   \n",
       "1      MONTOYA CAMERON   17  Albuquerque    Associate           Unemployed   \n",
       "2  SATTERFIELD VIVIANA   15  Albuquerque          PhD        Self-employed   \n",
       "3      MENDIOLA CARLOS   32  Albuquerque  High School  Employed(Full-time)   \n",
       "4          MULA VIVIAN   72  Albuquerque     Master's              Retired   \n",
       "\n",
       "   salary health_condition  credit_score credit_score_category  \n",
       "0   80000             Good           720                  Good  \n",
       "1       0        Excellent           710                  Good  \n",
       "2  120000             Poor           550                  Poor  \n",
       "3   45000        Excellent           800             Excellent  \n",
       "4   50000          Average           680                  Good  "
      ]
     },
     "execution_count": 36,
     "metadata": {},
     "output_type": "execute_result"
    }
   ],
   "source": [
    "employment_health.head()"
   ]
  },
  {
   "cell_type": "code",
   "execution_count": 37,
   "id": "280f01a3",
   "metadata": {},
   "outputs": [
    {
     "name": "stdout",
     "output_type": "stream",
     "text": [
      "<class 'pandas.core.frame.DataFrame'>\n",
      "RangeIndex: 1656 entries, 0 to 1655\n",
      "Data columns (total 9 columns):\n",
      " #   Column                 Non-Null Count  Dtype \n",
      "---  ------                 --------------  ----- \n",
      " 0   name                   1656 non-null   object\n",
      " 1   age                    1656 non-null   Int64 \n",
      " 2   city                   1656 non-null   object\n",
      " 3   education              1656 non-null   object\n",
      " 4   employment_status      1656 non-null   object\n",
      " 5   salary                 1656 non-null   Int64 \n",
      " 6   health_condition       1656 non-null   object\n",
      " 7   credit_score           1656 non-null   Int64 \n",
      " 8   credit_score_category  1656 non-null   object\n",
      "dtypes: Int64(3), object(6)\n",
      "memory usage: 121.4+ KB\n"
     ]
    }
   ],
   "source": [
    "employment_health.info()"
   ]
  },
  {
   "cell_type": "markdown",
   "id": "8875a182",
   "metadata": {},
   "source": [
    "#### We have a clean and complete dataset with the right data type format"
   ]
  },
  {
   "cell_type": "code",
   "execution_count": null,
   "id": "93902323",
   "metadata": {},
   "outputs": [],
   "source": []
  }
 ],
 "metadata": {
  "kernelspec": {
   "display_name": "Python 3 (ipykernel)",
   "language": "python",
   "name": "python3"
  },
  "language_info": {
   "codemirror_mode": {
    "name": "ipython",
    "version": 3
   },
   "file_extension": ".py",
   "mimetype": "text/x-python",
   "name": "python",
   "nbconvert_exporter": "python",
   "pygments_lexer": "ipython3",
   "version": "3.11.5"
  }
 },
 "nbformat": 4,
 "nbformat_minor": 5
}
